{
 "cells": [
  {
   "cell_type": "code",
   "execution_count": 1,
   "id": "fa715a04",
   "metadata": {},
   "outputs": [],
   "source": [
    "from ipynb.fs.full.raw_time_series import raw_time_series"
   ]
  },
  {
   "cell_type": "code",
   "execution_count": 6,
   "id": "c6f7939b",
   "metadata": {},
   "outputs": [],
   "source": [
    "import numpy as np\n",
    "ts = raw_time_series()\n",
    "\n",
    "def printStat(ts):\n",
    "    print(f'Count: {len(ts)}')\n",
    "    print(f'Max: {np.nanmax(ts)}')\n",
    "    print(f'Min: {np.nanmin(ts)}')\n",
    "    print(f'Avg: {round(np.nanmean(ts), 2)}')\n",
    "    print(f'Mean: {round(np.nanmedian(ts), 2)}')\n",
    "    print(f'Std: {round(np.nanstd(ts), 2)}')\n",
    "    print(f'NA values: {np.count_nonzero(np.isnan(ts))}')\n"
   ]
  },
  {
   "cell_type": "code",
   "execution_count": 7,
   "id": "684905dd",
   "metadata": {},
   "outputs": [
    {
     "name": "stdout",
     "output_type": "stream",
     "text": [
      "Count: 1650\n",
      "Max: 14.5\n",
      "Min: -4.2\n",
      "Avg: 6.22\n",
      "Mean: 5.7\n",
      "Std: 4.04\n",
      "NA values: 27\n"
     ]
    }
   ],
   "source": [
    "printStat(ts)"
   ]
  },
  {
   "cell_type": "code",
   "execution_count": null,
   "id": "13f00318",
   "metadata": {},
   "outputs": [],
   "source": []
  }
 ],
 "metadata": {
  "kernelspec": {
   "display_name": "Python 3 (ipykernel)",
   "language": "python",
   "name": "python3"
  },
  "language_info": {
   "codemirror_mode": {
    "name": "ipython",
    "version": 3
   },
   "file_extension": ".py",
   "mimetype": "text/x-python",
   "name": "python",
   "nbconvert_exporter": "python",
   "pygments_lexer": "ipython3",
   "version": "3.9.13"
  }
 },
 "nbformat": 4,
 "nbformat_minor": 5
}
