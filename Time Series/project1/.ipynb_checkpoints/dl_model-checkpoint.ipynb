{
 "cells": [
  {
   "cell_type": "code",
   "execution_count": 1,
   "id": "a91b24ba",
   "metadata": {},
   "outputs": [],
   "source": [
    "import torch\n",
    "import torch.nn.functional as F\n"
   ]
  },
  {
   "cell_type": "code",
   "execution_count": 2,
   "id": "bf52e20c",
   "metadata": {},
   "outputs": [],
   "source": [
    "class DL(torch.nn.Module):\n",
    "    def __init__(self, n_inp, l_1, l_2, conv1_out, conv1_kernel, conv2_kernel, drop1 = 0, n_out = 1):\n",
    "        super(DL, self).__init__()\n",
    "\n",
    "        conv1_out_ch = conv1_out\n",
    "        conv2_out_ch = conv1_out * 2\n",
    "        conv1_kernel = conv1_kernel\n",
    "        conv2_kernel = conv2_kernel\n",
    "        self.dropout_lin1 = drop1\n",
    "        self.pool = torch.nn.MaxPool1d(kernel_size = 2)\n",
    "        self.conv1 = torch.nn.Conv1d(in_channels = 1, out_channels = conv1_out_ch, kernel_size = conv1_kernel,padding = conv1_kernel - 1)\n",
    "        self.conv2 = torch.nn.Conv1d(in_channels = conv1_out_ch, out_channels = conv2_out_ch,kernel_size = conv2_kernel,padding = conv2_kernel - 1)\n",
    "        feature_tensor = self.feature_stack(torch.Tensor([[0] * n_inp]))\n",
    "        self.lin1 = torch.nn.Linear(feature_tensor.size()[1], l_1)\n",
    "        self.lin2 = torch.nn.Linear(l_1, l_2)\n",
    "        self.lin3 = torch.nn.Linear(l_2, n_out)\n",
    "\n",
    "    def feature_stack(self, x):\n",
    "        x = x.unsqueeze(1)\n",
    "        x = F.relu(self.pool(self.conv1(x)))\n",
    "        x = F.relu(self.pool(self.conv2(x)))\n",
    "        x = x.flatten(start_dim = 1)\n",
    "        return x\n",
    "\n",
    "    def fc_stack(self, x):\n",
    "        x1 = F.dropout(F.relu(self.lin1(x)), p = self.dropout_lin1)\n",
    "        x2 = F.relu(self.lin2(x1))\n",
    "        y = self.lin3(x2)\n",
    "        return y\n",
    "\n",
    "    def forward(self, x):\n",
    "        x = self.feature_stack(x)\n",
    "        y = self.fc_stack(x)\n",
    "        return y"
   ]
  },
  {
   "cell_type": "code",
   "execution_count": 3,
   "id": "45f1957e",
   "metadata": {},
   "outputs": [],
   "source": [
    "net = DL(n_inp = 120, l_1 = 400, l_2 = 48, conv1_out = 6, conv1_kernel = 36, conv2_kernel = 12, drop1 = .1)"
   ]
  },
  {
   "cell_type": "code",
   "execution_count": null,
   "id": "e6c78182",
   "metadata": {},
   "outputs": [],
   "source": []
  }
 ],
 "metadata": {
  "kernelspec": {
   "display_name": "Python 3 (ipykernel)",
   "language": "python",
   "name": "python3"
  },
  "language_info": {
   "codemirror_mode": {
    "name": "ipython",
    "version": 3
   },
   "file_extension": ".py",
   "mimetype": "text/x-python",
   "name": "python",
   "nbconvert_exporter": "python",
   "pygments_lexer": "ipython3",
   "version": "3.9.13"
  }
 },
 "nbformat": 4,
 "nbformat_minor": 5
}
