{
 "cells": [
  {
   "cell_type": "code",
   "execution_count": 2,
   "id": "da337ec7",
   "metadata": {},
   "outputs": [],
   "source": [
    "from statsmodels.tsa.statespace.sarimax import SARIMAX\n",
    "import torch"
   ]
  },
  {
   "cell_type": "code",
   "execution_count": 4,
   "id": "9e1ef4df",
   "metadata": {},
   "outputs": [],
   "source": [
    "class SarimaxPredictor(torch.nn.Module):\n",
    "    def forward(self, x):\n",
    "        last_values = []\n",
    "        l = x.tolist()\n",
    "        counter = 0\n",
    "        for r in l:\n",
    "            model = SARIMAX(r, order = (1, 1, 1), seasonal_order = (1, 1, 1, 12))\n",
    "            results = model.fit(disp = 0)\n",
    "            forecast = results.forecast()\n",
    "            last_values.append([forecast[0]])\n",
    "            counter = counter + 1\n",
    "            print(f'debug: SARIMA calculation {counter} / {len(l)}')\n",
    "        \n",
    "        return torch.tensor(data = last_values)\n",
    "    "
   ]
  },
  {
   "cell_type": "code",
   "execution_count": null,
   "id": "24e3818b",
   "metadata": {},
   "outputs": [],
   "source": []
  }
 ],
 "metadata": {
  "kernelspec": {
   "display_name": "Python 3 (ipykernel)",
   "language": "python",
   "name": "python3"
  },
  "language_info": {
   "codemirror_mode": {
    "name": "ipython",
    "version": 3
   },
   "file_extension": ".py",
   "mimetype": "text/x-python",
   "name": "python",
   "nbconvert_exporter": "python",
   "pygments_lexer": "ipython3",
   "version": "3.9.13"
  }
 },
 "nbformat": 4,
 "nbformat_minor": 5
}
