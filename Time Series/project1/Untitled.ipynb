{
 "cells": [
  {
   "cell_type": "code",
   "execution_count": 1,
   "id": "252cc619",
   "metadata": {},
   "outputs": [],
   "source": [
    "# Testing from this video link below:\n",
    "# https://www.youtube.com/watch?v=bikmA-VmSbY&ab_channel=BadriAdhikari\n",
    "\n",
    "# >>> m = nn.Conv1d(16, 33, 3, stride=2)\n",
    "# >>> input = torch.randn(20, 16, 50)\n",
    "# >>> output = m(input) # 20, 33, 24\n",
    "# The input sequence length is 50.\n",
    "# Applying a convolution with a kernel size of 3 and stride of 2 reduces the sequence length by (3-1)*1 + 1 = 3.\n",
    "# Therefore, the output sequence length is (50 - 3)/2 + 1 = 24.\n",
    "\n",
    "# Conv1(input, output, kernel) > input (sequences, features, elements) > (sequence, output, (elements - kernel)/2 + 1)\n",
    "# Conv2 - second layer will be based on the output of the first layer to modified\n",
    "\n",
    "# one dimension of input can generate multiple dimensions of output as DL will use kernal stride sliding window etc to break down your \n",
    "# data into different dimensions and analyse them\n",
    "\n",
    "import torch\n",
    "import torch.nn.functional as F \n",
    "import torch.nn as nn \n",
    "import random"
   ]
  },
  {
   "cell_type": "code",
   "execution_count": 2,
   "id": "403567f3",
   "metadata": {},
   "outputs": [],
   "source": [
    "inputt = torch.randn(10, 100, 9)\n",
    "# net = Net()\n",
    "# print(net.forward(inputt).shape)"
   ]
  },
  {
   "cell_type": "code",
   "execution_count": 20,
   "id": "82971b1a",
   "metadata": {},
   "outputs": [],
   "source": [
    "class Net(nn.Module):\n",
    "    # matrix dimension - 7 - 3 + 1\n",
    "    # why do we need to initalize linear? \n",
    "    def __init__(self):\n",
    "        super(Net, self).__init__()\n",
    "        self.conv1 = nn.Conv1d(in_channels = 100, out_channels = 10, kernel_size = 1)\n",
    "        self.relu1 = nn.ReLU()\n",
    "        self.conv2 = nn.Conv1d(in_channels = 10, out_channels = 10, kernel_size = 1)\n",
    "        self.relu2 = nn.ReLU()\n",
    "        self.sigmoid = nn.Sigmoid()        \n",
    "    \n",
    "    # What is the purpose for this results? the last dimension of the x? \n",
    "    def forward(self, x):\n",
    "        \n",
    "        x = self.conv1(x)\n",
    "        x = self.relu1(x)\n",
    "        x = self.conv2(x)\n",
    "        x = self.relu2(x)\n",
    "        x = self.sigmoid(x)\n",
    "        \n",
    "        return x\n",
    "    \n",
    "    def get_model_summary(self):\n",
    "        num_params = sum(p.numel() for i in self.parameters() if p.requires_grad)\n",
    "        return f\"Number of trainable parameters: {num_params}\"\n",
    "    \n",
    "    "
   ]
  },
  {
   "cell_type": "code",
   "execution_count": 21,
   "id": "9fc42681",
   "metadata": {},
   "outputs": [],
   "source": [
    "tmp = []\n",
    "\n",
    "net = Net()"
   ]
  },
  {
   "cell_type": "code",
   "execution_count": 22,
   "id": "29b8b981",
   "metadata": {},
   "outputs": [
    {
     "data": {
      "text/plain": [
       "tensor([[[0.5000, 0.5000, 0.5000],\n",
       "         [0.5000, 0.5535, 0.5000],\n",
       "         [0.5000, 0.5130, 0.5000],\n",
       "         [0.5254, 0.5894, 0.5263],\n",
       "         [0.5000, 0.5000, 0.5000],\n",
       "         [0.5000, 0.5170, 0.5000],\n",
       "         [0.6491, 0.5000, 0.5000],\n",
       "         [0.5000, 0.5084, 0.5000],\n",
       "         [0.5000, 0.5000, 0.5000],\n",
       "         [0.5599, 0.5000, 0.5000]]], grad_fn=<SigmoidBackward0>)"
      ]
     },
     "execution_count": 22,
     "metadata": {},
     "output_type": "execute_result"
    }
   ],
   "source": [
    "net.forward(inputt)"
   ]
  },
  {
   "cell_type": "code",
   "execution_count": null,
   "id": "afc14014",
   "metadata": {},
   "outputs": [],
   "source": []
  },
  {
   "cell_type": "code",
   "execution_count": null,
   "id": "53002131",
   "metadata": {},
   "outputs": [],
   "source": []
  }
 ],
 "metadata": {
  "kernelspec": {
   "display_name": "Python 3 (ipykernel)",
   "language": "python",
   "name": "python3"
  },
  "language_info": {
   "codemirror_mode": {
    "name": "ipython",
    "version": 3
   },
   "file_extension": ".py",
   "mimetype": "text/x-python",
   "name": "python",
   "nbconvert_exporter": "python",
   "pygments_lexer": "ipython3",
   "version": "3.9.13"
  }
 },
 "nbformat": 4,
 "nbformat_minor": 5
}
