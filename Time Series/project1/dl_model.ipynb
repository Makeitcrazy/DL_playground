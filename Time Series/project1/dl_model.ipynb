{
 "cells": [
  {
   "cell_type": "code",
   "execution_count": 1,
   "id": "a91b24ba",
   "metadata": {},
   "outputs": [],
   "source": [
    "import torch\n",
    "import torch.nn.functional as F\n"
   ]
  },
  {
   "cell_type": "code",
   "execution_count": 1,
   "id": "bf52e20c",
   "metadata": {},
   "outputs": [
    {
     "ename": "NameError",
     "evalue": "name 'torch' is not defined",
     "output_type": "error",
     "traceback": [
      "\u001b[1;31m---------------------------------------------------------------------------\u001b[0m",
      "\u001b[1;31mNameError\u001b[0m                                 Traceback (most recent call last)",
      "\u001b[1;32m~\\AppData\\Local\\Temp\\ipykernel_7316\\1572528534.py\u001b[0m in \u001b[0;36m<module>\u001b[1;34m\u001b[0m\n\u001b[1;32m----> 1\u001b[1;33m \u001b[1;32mclass\u001b[0m \u001b[0mDL\u001b[0m\u001b[1;33m(\u001b[0m\u001b[0mtorch\u001b[0m\u001b[1;33m.\u001b[0m\u001b[0mnn\u001b[0m\u001b[1;33m.\u001b[0m\u001b[0mModule\u001b[0m\u001b[1;33m)\u001b[0m\u001b[1;33m:\u001b[0m\u001b[1;33m\u001b[0m\u001b[1;33m\u001b[0m\u001b[0m\n\u001b[0m\u001b[0;32m      2\u001b[0m     \u001b[1;31m# how do you set the configure or dl architecture?\u001b[0m\u001b[1;33m\u001b[0m\u001b[1;33m\u001b[0m\u001b[0m\n\u001b[0;32m      3\u001b[0m     \u001b[1;32mdef\u001b[0m \u001b[0m__init__\u001b[0m\u001b[1;33m(\u001b[0m\u001b[0mself\u001b[0m\u001b[1;33m,\u001b[0m \u001b[0mn_inp\u001b[0m\u001b[1;33m,\u001b[0m \u001b[0ml_1\u001b[0m\u001b[1;33m,\u001b[0m \u001b[0ml_2\u001b[0m\u001b[1;33m,\u001b[0m \u001b[0mconv1_out\u001b[0m\u001b[1;33m,\u001b[0m \u001b[0mconv1_kernel\u001b[0m\u001b[1;33m,\u001b[0m \u001b[0mconv2_kernel\u001b[0m\u001b[1;33m,\u001b[0m \u001b[0mdrop1\u001b[0m \u001b[1;33m=\u001b[0m \u001b[1;36m0\u001b[0m\u001b[1;33m,\u001b[0m \u001b[0mn_out\u001b[0m \u001b[1;33m=\u001b[0m \u001b[1;36m1\u001b[0m\u001b[1;33m)\u001b[0m\u001b[1;33m:\u001b[0m\u001b[1;33m\u001b[0m\u001b[1;33m\u001b[0m\u001b[0m\n\u001b[0;32m      4\u001b[0m         \u001b[0msuper\u001b[0m\u001b[1;33m(\u001b[0m\u001b[0mDL\u001b[0m\u001b[1;33m,\u001b[0m \u001b[0mself\u001b[0m\u001b[1;33m)\u001b[0m\u001b[1;33m.\u001b[0m\u001b[0m__init__\u001b[0m\u001b[1;33m(\u001b[0m\u001b[1;33m)\u001b[0m\u001b[1;33m\u001b[0m\u001b[1;33m\u001b[0m\u001b[0m\n\u001b[0;32m      5\u001b[0m \u001b[1;33m\u001b[0m\u001b[0m\n",
      "\u001b[1;31mNameError\u001b[0m: name 'torch' is not defined"
     ]
    }
   ],
   "source": [
    "class DL(torch.nn.Module):\n",
    "    # how do you set the configure or dl architecture? \n",
    "    def __init__(self, n_inp, l_1, l_2, conv1_out, conv1_kernel, conv2_kernel, drop1 = 0, n_out = 1):\n",
    "        super(DL, self).__init__()\n",
    "\n",
    "        conv1_out_ch = conv1_out\n",
    "        conv2_out_ch = conv1_out * 2\n",
    "        conv1_kernel = conv1_kernel\n",
    "        conv2_kernel = conv2_kernel\n",
    "        self.dropout_lin1 = drop1\n",
    "        self.pool = torch.nn.MaxPool1d(kernel_size = 2)\n",
    "        self.conv1 = torch.nn.Conv1d(in_channels = 1, out_channels = conv1_out_ch, kernel_size = conv1_kernel, padding = conv1_kernel - 1)  # Configure of the model \n",
    "        self.conv2 = torch.nn.Conv1d(in_channels = conv1_out_ch, out_channels = conv2_out_ch, kernel_size = conv2_kernel, padding = conv2_kernel - 1)\n",
    "        feature_tensor = self.feature_stack(torch.Tensor([[0] * n_inp]))\n",
    "        \n",
    "        # \n",
    "        self.lin1 = torch.nn.Linear(feature_tensor.size()[1], l_1)\n",
    "        self.lin2 = torch.nn.Linear(l_1, l_2)\n",
    "        self.lin3 = torch.nn.Linear(l_2, n_out)\n",
    "\n",
    "    def feature_stack(self, x):\n",
    "        \"\"\"\n",
    "        when you input a feature tensor, then you break down the tensor and put the matrix into one single array\n",
    "        and the pool them with one to one with 2 size matrix and then put them into second relu matrix\n",
    "        finally flatten it up to 2 dimensions \n",
    "        \"\"\"\n",
    "        x = x.unsqueeze(1)\n",
    "        x = F.relu(self.pool(self.conv1(x)))\n",
    "        x = F.relu(self.pool(self.conv2(x)))\n",
    "        x = x.flatten(start_dim = 1)\n",
    "        return x\n",
    "\n",
    "    def fc_stack(self, x):\n",
    "        x1 = F.dropout(F.relu(self.lin1(x)), p = self.dropout_lin1)  # input F-relu, dropout_lin1 = 0.1 - randomly zeroouts some of the elements \n",
    "        x2 = F.relu(self.lin2(x1))  # \n",
    "        y = self.lin3(x2)\n",
    "        return y\n",
    "\n",
    "    def forward(self, x):\n",
    "        x = self.feature_stack(x)\n",
    "        y = self.fc_stack(x)\n",
    "        return y"
   ]
  },
  {
   "cell_type": "code",
   "execution_count": null,
   "id": "45f1957e",
   "metadata": {},
   "outputs": [],
   "source": [
    "net = DL(n_inp = 120, l_1 = 400, l_2 = 48, conv1_out = 6, conv1_kernel = 36, conv2_kernel = 12, drop1 = .1)"
   ]
  },
  {
   "cell_type": "code",
   "execution_count": null,
   "id": "e6c78182",
   "metadata": {},
   "outputs": [],
   "source": []
  }
 ],
 "metadata": {
  "kernelspec": {
   "display_name": "Python 3 (ipykernel)",
   "language": "python",
   "name": "python3"
  },
  "language_info": {
   "codemirror_mode": {
    "name": "ipython",
    "version": 3
   },
   "file_extension": ".py",
   "mimetype": "text/x-python",
   "name": "python",
   "nbconvert_exporter": "python",
   "pygments_lexer": "ipython3",
   "version": "3.9.13"
  }
 },
 "nbformat": 4,
 "nbformat_minor": 5
}
