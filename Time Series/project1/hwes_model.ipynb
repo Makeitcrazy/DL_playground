{
 "cells": [
  {
   "cell_type": "code",
   "execution_count": 2,
   "id": "0aa242d3",
   "metadata": {},
   "outputs": [],
   "source": [
    "from statsmodels.tsa.holtwinters import ExponentialSmoothing"
   ]
  },
  {
   "cell_type": "code",
   "execution_count": 3,
   "id": "80be863d",
   "metadata": {},
   "outputs": [],
   "source": [
    "import torch"
   ]
  },
  {
   "cell_type": "code",
   "execution_count": null,
   "id": "5a88087d",
   "metadata": {},
   "outputs": [],
   "source": [
    "class HwesPredictor(torch.nn.Module):\n",
    "    def forawrd(self, x):\n",
    "        last_values = []\n",
    "        for r in x.tolist():\n",
    "            model = ExponentialSmoothing(r, trend = None, seasonal = \"add\", seasonal_periods = 12)\n",
    "            results = model.fit()\n",
    "            forecast = results.forecast()\n",
    "            last_values.append([forecast[0]])\n",
    "        return torch.tensor(data = last_values)"
   ]
  }
 ],
 "metadata": {
  "kernelspec": {
   "display_name": "Python 3 (ipykernel)",
   "language": "python",
   "name": "python3"
  },
  "language_info": {
   "codemirror_mode": {
    "name": "ipython",
    "version": 3
   },
   "file_extension": ".py",
   "mimetype": "text/x-python",
   "name": "python",
   "nbconvert_exporter": "python",
   "pygments_lexer": "ipython3",
   "version": "3.9.13"
  }
 },
 "nbformat": 4,
 "nbformat_minor": 5
}
