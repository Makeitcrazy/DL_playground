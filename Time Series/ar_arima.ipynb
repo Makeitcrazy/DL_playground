{
 "cells": [
  {
   "cell_type": "code",
   "execution_count": 33,
   "id": "ffa85a03",
   "metadata": {},
   "outputs": [],
   "source": [
    "# develop a ar model \n",
    "from statsmodels.tsa.ar_model import AutoReg\n",
    "from statsmodels.tsa.arima.model import ARIMA\n",
    "import pandas as pd\n",
    "# invalid import\n",
    "import yfinance as yf"
   ]
  },
  {
   "cell_type": "code",
   "execution_count": 34,
   "id": "7b953be2",
   "metadata": {},
   "outputs": [],
   "source": [
    "df = pd.read_csv(r\"C:\\Users\\Terrence Poon\\Desktop\\pyTrading\\data\\0700.HK.csv\")\n",
    "df = df.dropna()"
   ]
  },
  {
   "cell_type": "code",
   "execution_count": 35,
   "id": "b2001a1a",
   "metadata": {},
   "outputs": [
    {
     "name": "stdout",
     "output_type": "stream",
     "text": [
      "const       0.160962\n",
      "Close.L1    1.004574\n",
      "Close.L2   -0.005109\n",
      "dtype: float64\n"
     ]
    },
    {
     "name": "stderr",
     "output_type": "stream",
     "text": [
      "D:\\Anaconda\\lib\\site-packages\\statsmodels\\tsa\\base\\tsa_model.py:471: ValueWarning: An unsupported index was provided and will be ignored when e.g. forecasting.\n",
      "  self._init_dates(dates, freq)\n"
     ]
    }
   ],
   "source": [
    "model = AutoReg(df['Close'], lags = 2)\n",
    "model_fit = model.fit()\n",
    "print(model_fit.params)\n",
    "\n",
    "# 700_tmr Price = 0.1609 + 1.004574 * 700_today + -0.005109 * 700_yesterday\n",
    "# const = intercept; Lag(1) = coefficient; Lag(2) = coefficient"
   ]
  },
  {
   "cell_type": "code",
   "execution_count": 44,
   "id": "1ed6bb2d",
   "metadata": {},
   "outputs": [
    {
     "name": "stderr",
     "output_type": "stream",
     "text": [
      "D:\\Anaconda\\lib\\site-packages\\statsmodels\\tsa\\base\\tsa_model.py:471: ValueWarning: An unsupported index was provided and will be ignored when e.g. forecasting.\n",
      "  self._init_dates(dates, freq)\n",
      "D:\\Anaconda\\lib\\site-packages\\statsmodels\\tsa\\base\\tsa_model.py:471: ValueWarning: An unsupported index was provided and will be ignored when e.g. forecasting.\n",
      "  self._init_dates(dates, freq)\n",
      "D:\\Anaconda\\lib\\site-packages\\statsmodels\\tsa\\base\\tsa_model.py:471: ValueWarning: An unsupported index was provided and will be ignored when e.g. forecasting.\n",
      "  self._init_dates(dates, freq)\n",
      "D:\\Anaconda\\lib\\site-packages\\statsmodels\\base\\model.py:604: ConvergenceWarning: Maximum Likelihood optimization failed to converge. Check mle_retvals\n",
      "  warnings.warn(\"Maximum Likelihood optimization failed to \"\n",
      "D:\\Anaconda\\lib\\site-packages\\statsmodels\\tsa\\base\\tsa_model.py:834: ValueWarning: No supported index is available. Prediction results will be given with an integer index beginning at `start`.\n",
      "  return get_prediction_index(\n"
     ]
    },
    {
     "ename": "KeyError",
     "evalue": "0",
     "output_type": "error",
     "traceback": [
      "\u001b[1;31m---------------------------------------------------------------------------\u001b[0m",
      "\u001b[1;31mValueError\u001b[0m                                Traceback (most recent call last)",
      "\u001b[1;32mD:\\Anaconda\\lib\\site-packages\\pandas\\core\\indexes\\range.py\u001b[0m in \u001b[0;36mget_loc\u001b[1;34m(self, key, method, tolerance)\u001b[0m\n\u001b[0;32m    384\u001b[0m                 \u001b[1;32mtry\u001b[0m\u001b[1;33m:\u001b[0m\u001b[1;33m\u001b[0m\u001b[1;33m\u001b[0m\u001b[0m\n\u001b[1;32m--> 385\u001b[1;33m                     \u001b[1;32mreturn\u001b[0m \u001b[0mself\u001b[0m\u001b[1;33m.\u001b[0m\u001b[0m_range\u001b[0m\u001b[1;33m.\u001b[0m\u001b[0mindex\u001b[0m\u001b[1;33m(\u001b[0m\u001b[0mnew_key\u001b[0m\u001b[1;33m)\u001b[0m\u001b[1;33m\u001b[0m\u001b[1;33m\u001b[0m\u001b[0m\n\u001b[0m\u001b[0;32m    386\u001b[0m                 \u001b[1;32mexcept\u001b[0m \u001b[0mValueError\u001b[0m \u001b[1;32mas\u001b[0m \u001b[0merr\u001b[0m\u001b[1;33m:\u001b[0m\u001b[1;33m\u001b[0m\u001b[1;33m\u001b[0m\u001b[0m\n",
      "\u001b[1;31mValueError\u001b[0m: 0 is not in range",
      "\nThe above exception was the direct cause of the following exception:\n",
      "\u001b[1;31mKeyError\u001b[0m                                  Traceback (most recent call last)",
      "\u001b[1;32m~\\AppData\\Local\\Temp\\ipykernel_6188\\1690532620.py\u001b[0m in \u001b[0;36m<module>\u001b[1;34m\u001b[0m\n\u001b[0;32m      4\u001b[0m \u001b[0mresults\u001b[0m \u001b[1;33m=\u001b[0m \u001b[0mmodel\u001b[0m\u001b[1;33m.\u001b[0m\u001b[0mfit\u001b[0m\u001b[1;33m(\u001b[0m\u001b[1;33m)\u001b[0m\u001b[1;33m\u001b[0m\u001b[1;33m\u001b[0m\u001b[0m\n\u001b[0;32m      5\u001b[0m \u001b[0mforecast\u001b[0m \u001b[1;33m=\u001b[0m \u001b[0mresults\u001b[0m\u001b[1;33m.\u001b[0m\u001b[0mforecast\u001b[0m\u001b[1;33m(\u001b[0m\u001b[1;33m)\u001b[0m\u001b[1;33m\u001b[0m\u001b[1;33m\u001b[0m\u001b[0m\n\u001b[1;32m----> 6\u001b[1;33m \u001b[0mpredicted\u001b[0m \u001b[1;33m=\u001b[0m \u001b[0mforecast\u001b[0m\u001b[1;33m[\u001b[0m\u001b[1;36m0\u001b[0m\u001b[1;33m]\u001b[0m\u001b[1;33m\u001b[0m\u001b[1;33m\u001b[0m\u001b[0m\n\u001b[0m\u001b[0;32m      7\u001b[0m \u001b[0mprint\u001b[0m\u001b[1;33m(\u001b[0m\u001b[1;34mf'Predicted price on {to_date}: {round(predicted, 2)}$'\u001b[0m\u001b[1;33m)\u001b[0m\u001b[1;33m\u001b[0m\u001b[1;33m\u001b[0m\u001b[0m\n\u001b[0;32m      8\u001b[0m \u001b[1;31m# print(f'Actual price on {to_date}: {round(test, 2)}$')\u001b[0m\u001b[1;33m\u001b[0m\u001b[1;33m\u001b[0m\u001b[0m\n",
      "\u001b[1;32mD:\\Anaconda\\lib\\site-packages\\pandas\\core\\series.py\u001b[0m in \u001b[0;36m__getitem__\u001b[1;34m(self, key)\u001b[0m\n\u001b[0;32m    956\u001b[0m \u001b[1;33m\u001b[0m\u001b[0m\n\u001b[0;32m    957\u001b[0m         \u001b[1;32melif\u001b[0m \u001b[0mkey_is_scalar\u001b[0m\u001b[1;33m:\u001b[0m\u001b[1;33m\u001b[0m\u001b[1;33m\u001b[0m\u001b[0m\n\u001b[1;32m--> 958\u001b[1;33m             \u001b[1;32mreturn\u001b[0m \u001b[0mself\u001b[0m\u001b[1;33m.\u001b[0m\u001b[0m_get_value\u001b[0m\u001b[1;33m(\u001b[0m\u001b[0mkey\u001b[0m\u001b[1;33m)\u001b[0m\u001b[1;33m\u001b[0m\u001b[1;33m\u001b[0m\u001b[0m\n\u001b[0m\u001b[0;32m    959\u001b[0m \u001b[1;33m\u001b[0m\u001b[0m\n\u001b[0;32m    960\u001b[0m         \u001b[1;32mif\u001b[0m \u001b[0mis_hashable\u001b[0m\u001b[1;33m(\u001b[0m\u001b[0mkey\u001b[0m\u001b[1;33m)\u001b[0m\u001b[1;33m:\u001b[0m\u001b[1;33m\u001b[0m\u001b[1;33m\u001b[0m\u001b[0m\n",
      "\u001b[1;32mD:\\Anaconda\\lib\\site-packages\\pandas\\core\\series.py\u001b[0m in \u001b[0;36m_get_value\u001b[1;34m(self, label, takeable)\u001b[0m\n\u001b[0;32m   1067\u001b[0m \u001b[1;33m\u001b[0m\u001b[0m\n\u001b[0;32m   1068\u001b[0m         \u001b[1;31m# Similar to Index.get_value, but we do not fall back to positional\u001b[0m\u001b[1;33m\u001b[0m\u001b[1;33m\u001b[0m\u001b[0m\n\u001b[1;32m-> 1069\u001b[1;33m         \u001b[0mloc\u001b[0m \u001b[1;33m=\u001b[0m \u001b[0mself\u001b[0m\u001b[1;33m.\u001b[0m\u001b[0mindex\u001b[0m\u001b[1;33m.\u001b[0m\u001b[0mget_loc\u001b[0m\u001b[1;33m(\u001b[0m\u001b[0mlabel\u001b[0m\u001b[1;33m)\u001b[0m\u001b[1;33m\u001b[0m\u001b[1;33m\u001b[0m\u001b[0m\n\u001b[0m\u001b[0;32m   1070\u001b[0m         \u001b[1;32mreturn\u001b[0m \u001b[0mself\u001b[0m\u001b[1;33m.\u001b[0m\u001b[0mindex\u001b[0m\u001b[1;33m.\u001b[0m\u001b[0m_get_values_for_loc\u001b[0m\u001b[1;33m(\u001b[0m\u001b[0mself\u001b[0m\u001b[1;33m,\u001b[0m \u001b[0mloc\u001b[0m\u001b[1;33m,\u001b[0m \u001b[0mlabel\u001b[0m\u001b[1;33m)\u001b[0m\u001b[1;33m\u001b[0m\u001b[1;33m\u001b[0m\u001b[0m\n\u001b[0;32m   1071\u001b[0m \u001b[1;33m\u001b[0m\u001b[0m\n",
      "\u001b[1;32mD:\\Anaconda\\lib\\site-packages\\pandas\\core\\indexes\\range.py\u001b[0m in \u001b[0;36mget_loc\u001b[1;34m(self, key, method, tolerance)\u001b[0m\n\u001b[0;32m    385\u001b[0m                     \u001b[1;32mreturn\u001b[0m \u001b[0mself\u001b[0m\u001b[1;33m.\u001b[0m\u001b[0m_range\u001b[0m\u001b[1;33m.\u001b[0m\u001b[0mindex\u001b[0m\u001b[1;33m(\u001b[0m\u001b[0mnew_key\u001b[0m\u001b[1;33m)\u001b[0m\u001b[1;33m\u001b[0m\u001b[1;33m\u001b[0m\u001b[0m\n\u001b[0;32m    386\u001b[0m                 \u001b[1;32mexcept\u001b[0m \u001b[0mValueError\u001b[0m \u001b[1;32mas\u001b[0m \u001b[0merr\u001b[0m\u001b[1;33m:\u001b[0m\u001b[1;33m\u001b[0m\u001b[1;33m\u001b[0m\u001b[0m\n\u001b[1;32m--> 387\u001b[1;33m                     \u001b[1;32mraise\u001b[0m \u001b[0mKeyError\u001b[0m\u001b[1;33m(\u001b[0m\u001b[0mkey\u001b[0m\u001b[1;33m)\u001b[0m \u001b[1;32mfrom\u001b[0m \u001b[0merr\u001b[0m\u001b[1;33m\u001b[0m\u001b[1;33m\u001b[0m\u001b[0m\n\u001b[0m\u001b[0;32m    388\u001b[0m             \u001b[0mself\u001b[0m\u001b[1;33m.\u001b[0m\u001b[0m_check_indexing_error\u001b[0m\u001b[1;33m(\u001b[0m\u001b[0mkey\u001b[0m\u001b[1;33m)\u001b[0m\u001b[1;33m\u001b[0m\u001b[1;33m\u001b[0m\u001b[0m\n\u001b[0;32m    389\u001b[0m             \u001b[1;32mraise\u001b[0m \u001b[0mKeyError\u001b[0m\u001b[1;33m(\u001b[0m\u001b[0mkey\u001b[0m\u001b[1;33m)\u001b[0m\u001b[1;33m\u001b[0m\u001b[1;33m\u001b[0m\u001b[0m\n",
      "\u001b[1;31mKeyError\u001b[0m: 0"
     ]
    }
   ],
   "source": [
    "close_prices = df['Close']\n",
    "train, test = close_prices[:-1], 384.34\n",
    "model = ARIMA(train, order = (5,2,3))\n",
    "results = model.fit()\n",
    "forecast = results.forecast()\n",
    "predicted = forecast[0]\n",
    "print(f'Predicted price on {to_date}: {round(predicted, 2)}$')\n",
    "# print(f'Actual price on {to_date}: {round(test, 2)}$')\n"
   ]
  },
  {
   "cell_type": "code",
   "execution_count": 82,
   "id": "a9c267ba",
   "metadata": {},
   "outputs": [],
   "source": [
    "import torch\n",
    "#f(x1, x2, x3, x4) = x_1^3 * x_2 + x_3 * x_4\n",
    "def get_function(x1_val = 0, x2_val = 0, x3_val = 0, x4_val = 0):\n",
    "# variables; requires_grad = need derivative?\n",
    "    x1 = torch.tensor(x1_val, requires_grad = True, dtype = torch.float32)\n",
    "#     print(x1)\n",
    "    x2 = torch.tensor(x2_val, requires_grad = True, dtype = torch.float32)\n",
    "#     print(x2)\n",
    "    x3 = torch.tensor(x3_val, requires_grad = True, dtype = torch.float32)\n",
    "#     print(x3)\n",
    "    x4 = torch.tensor(x4_val, requires_grad = True, dtype = torch.float32)\n",
    "#     print(x4)\n",
    "    # function\n",
    "    p1 = x1.pow(3)\n",
    "#     print(p1)  # PowBackward()\n",
    "    m1 = p1 * x2\n",
    "#     print(m1)  # MullBackward()\n",
    "    m2 = x3 * x4\n",
    "#     print(m2)  # MullBackward()\n",
    "    f = m1 + m2\n",
    "#     print(f)   # AddBackward()\n",
    "    vars = {'x1': x1, 'x2': x2, 'x3': x3, 'x4': x4}\n",
    "\n",
    "    return f, vars"
   ]
  },
  {
   "cell_type": "code",
   "execution_count": 83,
   "id": "4538d871",
   "metadata": {},
   "outputs": [],
   "source": [
    "abc, cd = get_function(2,4,3,5)"
   ]
  },
  {
   "cell_type": "code",
   "execution_count": 84,
   "id": "750f5497",
   "metadata": {},
   "outputs": [
    {
     "data": {
      "text/plain": [
       "47.0"
      ]
     },
     "execution_count": 84,
     "metadata": {},
     "output_type": "execute_result"
    }
   ],
   "source": [
    "abc.item()"
   ]
  },
  {
   "cell_type": "code",
   "execution_count": 66,
   "id": "3094c779",
   "metadata": {},
   "outputs": [
    {
     "data": {
      "text/plain": [
       "{'x1': tensor(2., requires_grad=True),\n",
       " 'x2': tensor(4., requires_grad=True),\n",
       " 'x3': tensor(3., requires_grad=True),\n",
       " 'x4': tensor(5., requires_grad=True)}"
      ]
     },
     "execution_count": 66,
     "metadata": {},
     "output_type": "execute_result"
    }
   ],
   "source": [
    "cd"
   ]
  },
  {
   "cell_type": "code",
   "execution_count": 89,
   "id": "098d880f",
   "metadata": {},
   "outputs": [
    {
     "name": "stdout",
     "output_type": "stream",
     "text": [
      "tensor(47., grad_fn=<AddBackward0>)\n",
      "<class 'torch.Tensor'>\n",
      "(tensor(48.), tensor(8.), tensor(5.), tensor(3.))\n"
     ]
    }
   ],
   "source": [
    "# show first derivative\n",
    "from torch.autograd import grad\n",
    "\n",
    "f, params = get_function(2,4,3,5)\n",
    "# df_dx1 = grad(outputs=f, inputs = [params['x4']])  # x1 d first variable\n",
    "df_dx = grad(outputs=f, inputs = params.values()) # d all variables\n",
    "print(f)\n",
    "print(type(f))\n",
    "print(df_dx)\n",
    "# print(df_dx1)"
   ]
  },
  {
   "cell_type": "code",
   "execution_count": 88,
   "id": "32fa9133",
   "metadata": {},
   "outputs": [],
   "source": [
    "x = torch.tensor(data = [[1,2,3],[4,5,6]], dtype=torch.float32, requires_grad=True)"
   ]
  },
  {
   "cell_type": "code",
   "execution_count": 86,
   "id": "5f313f36",
   "metadata": {},
   "outputs": [
    {
     "ename": "TypeError",
     "evalue": "'int' object is not iterable",
     "output_type": "error",
     "traceback": [
      "\u001b[1;31m---------------------------------------------------------------------------\u001b[0m",
      "\u001b[1;31mTypeError\u001b[0m                                 Traceback (most recent call last)",
      "\u001b[1;32m~\\AppData\\Local\\Temp\\ipykernel_6188\\3856647305.py\u001b[0m in \u001b[0;36m<module>\u001b[1;34m\u001b[0m\n\u001b[1;32m----> 1\u001b[1;33m \u001b[0mtmp\u001b[0m \u001b[1;33m=\u001b[0m \u001b[0mgrad\u001b[0m\u001b[1;33m(\u001b[0m\u001b[0moutputs\u001b[0m\u001b[1;33m=\u001b[0m\u001b[1;36m35\u001b[0m\u001b[1;33m,\u001b[0m \u001b[0minputs\u001b[0m\u001b[1;33m=\u001b[0m\u001b[0mx\u001b[0m\u001b[1;33m)\u001b[0m\u001b[1;33m\u001b[0m\u001b[1;33m\u001b[0m\u001b[0m\n\u001b[0m",
      "\u001b[1;32mD:\\Anaconda\\lib\\site-packages\\torch\\autograd\\__init__.py\u001b[0m in \u001b[0;36mgrad\u001b[1;34m(outputs, inputs, grad_outputs, retain_graph, create_graph, only_inputs, allow_unused, is_grads_batched)\u001b[0m\n\u001b[0;32m    236\u001b[0m             \u001b[1;32mfor\u001b[0m \u001b[0myour\u001b[0m \u001b[0muse\u001b[0m \u001b[0mcase\u001b[0m\u001b[1;33m.\u001b[0m \u001b[0mDefaults\u001b[0m \u001b[0mto\u001b[0m\u001b[0;31m \u001b[0m\u001b[0;31m`\u001b[0m\u001b[0;31m`\u001b[0m\u001b[1;32mFalse\u001b[0m\u001b[0;31m`\u001b[0m\u001b[0;31m`\u001b[0m\u001b[1;33m.\u001b[0m\u001b[1;33m\u001b[0m\u001b[1;33m\u001b[0m\u001b[0m\n\u001b[0;32m    237\u001b[0m     \"\"\"\n\u001b[1;32m--> 238\u001b[1;33m     \u001b[0mt_outputs\u001b[0m \u001b[1;33m=\u001b[0m \u001b[0mcast\u001b[0m\u001b[1;33m(\u001b[0m\u001b[0mTuple\u001b[0m\u001b[1;33m[\u001b[0m\u001b[0mtorch\u001b[0m\u001b[1;33m.\u001b[0m\u001b[0mTensor\u001b[0m\u001b[1;33m,\u001b[0m \u001b[1;33m...\u001b[0m\u001b[1;33m]\u001b[0m\u001b[1;33m,\u001b[0m \u001b[1;33m(\u001b[0m\u001b[0moutputs\u001b[0m\u001b[1;33m,\u001b[0m\u001b[1;33m)\u001b[0m \u001b[1;32mif\u001b[0m \u001b[0mis_tensor_like\u001b[0m\u001b[1;33m(\u001b[0m\u001b[0moutputs\u001b[0m\u001b[1;33m)\u001b[0m \u001b[1;32melse\u001b[0m \u001b[0mtuple\u001b[0m\u001b[1;33m(\u001b[0m\u001b[0moutputs\u001b[0m\u001b[1;33m)\u001b[0m\u001b[1;33m)\u001b[0m\u001b[1;33m\u001b[0m\u001b[1;33m\u001b[0m\u001b[0m\n\u001b[0m\u001b[0;32m    239\u001b[0m     \u001b[0mt_inputs\u001b[0m \u001b[1;33m=\u001b[0m \u001b[0mcast\u001b[0m\u001b[1;33m(\u001b[0m\u001b[0mTuple\u001b[0m\u001b[1;33m[\u001b[0m\u001b[0mtorch\u001b[0m\u001b[1;33m.\u001b[0m\u001b[0mTensor\u001b[0m\u001b[1;33m,\u001b[0m \u001b[1;33m...\u001b[0m\u001b[1;33m]\u001b[0m\u001b[1;33m,\u001b[0m \u001b[1;33m(\u001b[0m\u001b[0minputs\u001b[0m\u001b[1;33m,\u001b[0m\u001b[1;33m)\u001b[0m \u001b[1;32mif\u001b[0m \u001b[0mis_tensor_like\u001b[0m\u001b[1;33m(\u001b[0m\u001b[0minputs\u001b[0m\u001b[1;33m)\u001b[0m \u001b[1;32melse\u001b[0m \u001b[0mtuple\u001b[0m\u001b[1;33m(\u001b[0m\u001b[0minputs\u001b[0m\u001b[1;33m)\u001b[0m\u001b[1;33m)\u001b[0m\u001b[1;33m\u001b[0m\u001b[1;33m\u001b[0m\u001b[0m\n\u001b[0;32m    240\u001b[0m     \u001b[0moverridable_args\u001b[0m \u001b[1;33m=\u001b[0m \u001b[0mt_outputs\u001b[0m \u001b[1;33m+\u001b[0m \u001b[0mt_inputs\u001b[0m\u001b[1;33m\u001b[0m\u001b[1;33m\u001b[0m\u001b[0m\n",
      "\u001b[1;31mTypeError\u001b[0m: 'int' object is not iterable"
     ]
    }
   ],
   "source": [
    "# Ones / twos / eye \n",
    "\n",
    "# tmp = grad(outputs=, inputs=x)"
   ]
  },
  {
   "cell_type": "code",
   "execution_count": 1,
   "id": "e9dc179c",
   "metadata": {},
   "outputs": [
    {
     "name": "stdout",
     "output_type": "stream",
     "text": [
      "tensor([[0., 0.],\n",
      "        [0., 0.]])\n",
      "tensor([[1., 1.],\n",
      "        [1., 1.]])\n",
      "tensor([[1., 0., 0.],\n",
      "        [0., 1., 0.],\n",
      "        [0., 0., 1.]])\n"
     ]
    },
    {
     "ename": "RuntimeError",
     "evalue": "shape '[2, 2]' is invalid for input of size 9",
     "output_type": "error",
     "traceback": [
      "\u001b[1;31m---------------------------------------------------------------------------\u001b[0m",
      "\u001b[1;31mRuntimeError\u001b[0m                              Traceback (most recent call last)",
      "\u001b[1;32m~\\AppData\\Local\\Temp\\ipykernel_16372\\2040794820.py\u001b[0m in \u001b[0;36m<module>\u001b[1;34m\u001b[0m\n\u001b[0;32m     15\u001b[0m \u001b[1;33m\u001b[0m\u001b[0m\n\u001b[0;32m     16\u001b[0m \u001b[1;31m# Reshape\u001b[0m\u001b[1;33m\u001b[0m\u001b[1;33m\u001b[0m\u001b[0m\n\u001b[1;32m---> 17\u001b[1;33m \u001b[0my\u001b[0m \u001b[1;33m=\u001b[0m \u001b[0mx\u001b[0m\u001b[1;33m.\u001b[0m\u001b[0mreshape\u001b[0m\u001b[1;33m(\u001b[0m\u001b[1;33m(\u001b[0m\u001b[1;36m2\u001b[0m\u001b[1;33m,\u001b[0m \u001b[1;36m2\u001b[0m\u001b[1;33m)\u001b[0m\u001b[1;33m)\u001b[0m \u001b[1;31m# [1, 2, 3, 4] [[1, 2],[3, 4]]\u001b[0m\u001b[1;33m\u001b[0m\u001b[1;33m\u001b[0m\u001b[0m\n\u001b[0m\u001b[0;32m     18\u001b[0m \u001b[1;33m\u001b[0m\u001b[0m\n\u001b[0;32m     19\u001b[0m \u001b[1;31m# Size\u001b[0m\u001b[1;33m\u001b[0m\u001b[1;33m\u001b[0m\u001b[0m\n",
      "\u001b[1;31mRuntimeError\u001b[0m: shape '[2, 2]' is invalid for input of size 9"
     ]
    }
   ],
   "source": [
    "import torch\n",
    "import random\n",
    "\n",
    "# set 2 x 2 dimensions with all zeros values\n",
    "x = torch.zeros((2, 2))\n",
    "print(x)\n",
    "\n",
    "# set 2 x 2 dimensions with all one values\n",
    "x = torch.ones((2, 2))\n",
    "print(x)\n",
    "\n",
    "# set 2 x 2 dimensions with identical tensor\n",
    "x = torch.eye(3)\n",
    "print(x)\n",
    "\n",
    "# Reshape \n",
    "y = x.reshape((2, 2)) # [1, 2, 3, 4] [[1, 2],[3, 4]]\n",
    "\n",
    "# Size \n",
    "x.size() # [2, 3]\n",
    "\n",
    "# Dim \n",
    "x.dim() # 2 \n",
    "\n",
    "# Tolist - tensor values\n",
    "x.tolist()\n",
    "\n",
    "# Cal Gradient \n",
    "x = torch.tensor(data = [2], dtype=torch.float32, requires_grad=True)\n",
    "f = x.pow(2)\n",
    "f.backward() # why backward? \n",
    "x.grad.item()\n",
    "\n",
    "# abs - absolute value\n",
    "# add - add a scaler\n",
    "# ceil - return a new tensor greater than or equal to each element of a tensor \n",
    "# dist \n",
    "# div - divides each element \n",
    "# eq - element-wise equality\n",
    "# floor - return a new tensor greater than or less each element of a tensor \n",
    "# mean - mean value  \n",
    "# pow \n",
    "# max - max value\n",
    "# min - min value \n",
    "# round  # sign  # sum"
   ]
  },
  {
   "cell_type": "code",
   "execution_count": 3,
   "id": "74f8201f",
   "metadata": {},
   "outputs": [],
   "source": [
    "import torch\n",
    "#f(x1, x2, x3, x4) = x_1^3 * x_2 + x_3 * x_4\n",
    "def get_hypofunction(x1_val = 0, x2_val = 0, x3_val = 0, x4_val = 0, x5_val = 0):\n",
    "# variables; requires_grad = need derivative?\n",
    "    x1 = torch.tensor(x1_val, requires_grad = True, dtype = torch.float32)\n",
    "#     print(x1)\n",
    "    x2 = torch.tensor(x2_val, requires_grad = True, dtype = torch.float32)\n",
    "#     print(x2)\n",
    "    x3 = torch.tensor(x3_val, requires_grad = True, dtype = torch.float32)\n",
    "#     print(x3)\n",
    "    x4 = torch.tensor(x4_val, requires_grad = True, dtype = torch.float32)\n",
    "    x5 = torch.tensor(x5_val, requires_grad = True, dtype = torch.float32)\n",
    "#     print(x4)\n",
    "    # function\n",
    "    p1 = x1.pow(3)\n",
    "#     print(p1)  # PowBackward()\n",
    "    m1 = p1 * x2\n",
    "    m3 = m1 / x5\n",
    "    print(m3)\n",
    "#     print(m1)  # MullBackward()\n",
    "    m2 = x3 * x4\n",
    "#     print(m2)  # MullBackward()\n",
    "    f = m1 + m2\n",
    "#     print(f)   # AddBackward()\n",
    "    vars = {'x1': x1, 'x2': x2, 'x3': x3, 'x4': x4}\n",
    "\n",
    "    return f, vars"
   ]
  },
  {
   "cell_type": "code",
   "execution_count": 4,
   "id": "be65b760",
   "metadata": {},
   "outputs": [
    {
     "name": "stdout",
     "output_type": "stream",
     "text": [
      "tensor(4.5714, grad_fn=<DivBackward0>)\n"
     ]
    }
   ],
   "source": [
    "abc = get_hypofunction(2,4,5,6,7)"
   ]
  },
  {
   "cell_type": "code",
   "execution_count": 5,
   "id": "cd8dac07",
   "metadata": {},
   "outputs": [
    {
     "data": {
      "text/plain": [
       "(tensor(62., grad_fn=<AddBackward0>),\n",
       " {'x1': tensor(2., requires_grad=True),\n",
       "  'x2': tensor(4., requires_grad=True),\n",
       "  'x3': tensor(5., requires_grad=True),\n",
       "  'x4': tensor(6., requires_grad=True)})"
      ]
     },
     "execution_count": 5,
     "metadata": {},
     "output_type": "execute_result"
    }
   ],
   "source": [
    "abc"
   ]
  },
  {
   "cell_type": "code",
   "execution_count": 9,
   "id": "ea36a5b0",
   "metadata": {},
   "outputs": [
    {
     "name": "stdout",
     "output_type": "stream",
     "text": [
      "Parameter containing:\n",
      "tensor([[-0.5439, -0.3075,  0.1234],\n",
      "        [-0.0592,  0.4512, -0.1335]], requires_grad=True)\n"
     ]
    }
   ],
   "source": [
    "ll = torch.nn.Linear(3,2) # 3 elements 2 layers\n",
    "print(ll.weight) # initialize with random weights and biases"
   ]
  },
  {
   "cell_type": "code",
   "execution_count": null,
   "id": "41ac3e23",
   "metadata": {},
   "outputs": [],
   "source": []
  }
 ],
 "metadata": {
  "kernelspec": {
   "display_name": "Python 3 (ipykernel)",
   "language": "python",
   "name": "python3"
  },
  "language_info": {
   "codemirror_mode": {
    "name": "ipython",
    "version": 3
   },
   "file_extension": ".py",
   "mimetype": "text/x-python",
   "name": "python",
   "nbconvert_exporter": "python",
   "pygments_lexer": "ipython3",
   "version": "3.9.13"
  }
 },
 "nbformat": 4,
 "nbformat_minor": 5
}
