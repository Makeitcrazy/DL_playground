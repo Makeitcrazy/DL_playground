{
 "cells": [
  {
   "cell_type": "code",
   "execution_count": 2,
   "id": "9a2e9689",
   "metadata": {},
   "outputs": [],
   "source": [
    "import matplotlib.pyplot as plt\n",
    "import pandas as pd \n",
    "import numpy as np # convert it into 2D \n",
    "import torch\n",
    "import torch.nn as nn\n",
    "import torch.optim as optim\n",
    "import torch.utils.data as data "
   ]
  },
  {
   "cell_type": "code",
   "execution_count": 8,
   "id": "9b8059a3",
   "metadata": {},
   "outputs": [],
   "source": [
    "df = pd.read_csv(\"0700.HK.csv\")\n",
    "df.sort_values(by=['Date'], ascending=1)\n"
   ]
  },
  {
   "cell_type": "code",
   "execution_count": 3,
   "id": "68aef88b",
   "metadata": {},
   "outputs": [
    {
     "data": {
      "text/plain": [
       "array([[405.2],\n",
       "       [402. ],\n",
       "       [395. ],\n",
       "       ...,\n",
       "       [335.6],\n",
       "       [332.4],\n",
       "       [322.4]], dtype=float32)"
      ]
     },
     "execution_count": 3,
     "metadata": {},
     "output_type": "execute_result"
    }
   ],
   "source": [
    "timeseries = df[[\"Close\"]].values.astype('float32')  # set as array\n",
    "timeseries"
   ]
  },
  {
   "cell_type": "code",
   "execution_count": 4,
   "id": "beb1d4b0",
   "metadata": {},
   "outputs": [],
   "source": [
    "train_size = int(len(timeseries) * 0.67)\n",
    "test_size = len(timeseries) - train_size\n",
    "train, test = timeseries[:train_size], timeseries[train_size:]"
   ]
  },
  {
   "cell_type": "code",
   "execution_count": 5,
   "id": "f1e3e20b",
   "metadata": {},
   "outputs": [],
   "source": [
    "def create_dataset(dataset, lookback): \n",
    "    \"\"\" Transform a time series into a prediction dataset\n",
    "    \n",
    "    Args:\n",
    "        dataset: A numpy array of time series, first dimension is the time steps\n",
    "        lookback: Size of window for prediction\n",
    "    \"\"\"\n",
    "    X, y = [], []\n",
    "    \n",
    "    # Here we are initializing two dimensions \n",
    "    for i in range(len(dataset) - lookback):\n",
    "        feature = dataset[i:i+lookback]   # first dimension\n",
    "        target = dataset[i+1:i+lookback+1] # second dimension\n",
    "        X.append(feature)\n",
    "        y.append(target)\n",
    "    return torch.tensor(X), torch.tensor(y)"
   ]
  },
  {
   "cell_type": "code",
   "execution_count": 6,
   "id": "e405f00b",
   "metadata": {},
   "outputs": [
    {
     "name": "stderr",
     "output_type": "stream",
     "text": [
      "C:\\Users\\Terrence Poon\\AppData\\Local\\Temp\\ipykernel_1408\\1845662223.py:16: UserWarning: Creating a tensor from a list of numpy.ndarrays is extremely slow. Please consider converting the list to a single numpy.ndarray with numpy.array() before converting to a tensor. (Triggered internally at  C:\\b\\abs_bao0hdcrdh\\croot\\pytorch_1675190257512\\work\\torch\\csrc\\utils\\tensor_new.cpp:204.)\n",
      "  return torch.tensor(X), torch.tensor(y)\n"
     ]
    }
   ],
   "source": [
    "lookback = 4 # Look back window = 4 days\n",
    "X_train, y_train = create_dataset(train, lookback)\n",
    "X_test, y_test = create_dataset(test, lookback)"
   ]
  },
  {
   "cell_type": "code",
   "execution_count": 7,
   "id": "36a97063",
   "metadata": {},
   "outputs": [],
   "source": [
    "class AirModel(nn.Module):\n",
    "    def __init__(self):\n",
    "        super().__init__()\n",
    "        self.lstm = nn.LSTM(input_size=1, hidden_size=50, num_layers=1, batch_first=True)\n",
    "        self.linear = nn.Linear(50, 1)\n",
    "    \n",
    "    def forward(self, x):\n",
    "        x, _ = self.lstm(x)\n",
    "        x = self.linear(x)\n",
    "        return x\n",
    "    \n"
   ]
  },
  {
   "cell_type": "code",
   "execution_count": 8,
   "id": "dad5670c",
   "metadata": {},
   "outputs": [
    {
     "data": {
      "text/plain": [
       "AirModel(\n",
       "  (lstm): LSTM(1, 50, batch_first=True)\n",
       "  (linear): Linear(in_features=50, out_features=1, bias=True)\n",
       ")"
      ]
     },
     "execution_count": 8,
     "metadata": {},
     "output_type": "execute_result"
    }
   ],
   "source": [
    "model = AirModel()\n",
    "model"
   ]
  },
  {
   "cell_type": "code",
   "execution_count": 9,
   "id": "112c1d9e",
   "metadata": {},
   "outputs": [],
   "source": [
    "optimizer = optim.Adam(model.parameters()) # Adam ~= Gradient Descent\n",
    "loss_fn = nn.MSELoss()\n",
    "loader = data.DataLoader(data.TensorDataset(X_train, y_train), shuffle=True, batch_size=8)\n"
   ]
  },
  {
   "cell_type": "code",
   "execution_count": 10,
   "id": "d7a2b501",
   "metadata": {},
   "outputs": [
    {
     "name": "stdout",
     "output_type": "stream",
     "text": [
      "Epoch 0: train RMSE 451.1310, test RMSE 371.5202\n",
      "Epoch 100: train RMSE 236.7384, test RMSE 152.5289\n",
      "Epoch 200: train RMSE 96.3936, test RMSE 38.5548\n",
      "Epoch 300: train RMSE 49.1308, test RMSE 42.5440\n",
      "Epoch 400: train RMSE 33.8210, test RMSE 33.4017\n",
      "Epoch 500: train RMSE 22.0322, test RMSE 23.4234\n",
      "Epoch 600: train RMSE 15.9143, test RMSE 18.6321\n",
      "Epoch 700: train RMSE 13.8565, test RMSE 17.3645\n",
      "Epoch 800: train RMSE 13.0106, test RMSE 16.6168\n",
      "Epoch 900: train RMSE 12.6555, test RMSE 15.7934\n"
     ]
    }
   ],
   "source": [
    "n_epochs = 1000\n",
    "for epoch in range(n_epochs):\n",
    "    model.train()\n",
    "    for X_batch, y_batch in loader:\n",
    "        y_pred = model(X_batch)\n",
    "        loss = loss_fn(y_pred, y_batch)\n",
    "        optimizer.zero_grad()\n",
    "        loss.backward()\n",
    "        optimizer.step()\n",
    "    # Validation\n",
    "    if epoch % 100 != 0:\n",
    "        continue\n",
    "    model.eval()\n",
    "    with torch.no_grad():\n",
    "        y_pred = model(X_train)\n",
    "        train_rmse = np.sqrt(loss_fn(y_pred, y_train))\n",
    "        y_pred = model(X_test)\n",
    "        test_rmse = np.sqrt(loss_fn(y_pred, y_test))\n",
    "    print(\"Epoch %d: train RMSE %.4f, test RMSE %.4f\" % (epoch, train_rmse, test_rmse))\n",
    "    "
   ]
  },
  {
   "cell_type": "code",
   "execution_count": 11,
   "id": "2a261291",
   "metadata": {},
   "outputs": [],
   "source": [
    "with torch.no_grad():\n",
    "    # Shift train predictions for plotting \n",
    "    train_plot = np.ones_like(timeseries) * np.nan\n",
    "    y_pred = model(X_train)\n",
    "    y_pred = y_pred[:, -1, :]\n",
    "    train_plot[lookback:train_size] = model(X_train)[:, -1, :]\n",
    "    # Shift test predictions for plotting\n",
    "    test_plot = np.ones_like(timeseries) * np.nan\n",
    "    test_plot[train_size + lookback:len(timeseries)] = model(X_test)[:, -1, :]"
   ]
  },
  {
   "cell_type": "code",
   "execution_count": 12,
   "id": "bd652361",
   "metadata": {},
   "outputs": [
    {
     "data": {
      "image/png": "[encoded data removed]",
      "text/plain": [
       "<Figure size 640x480 with 1 Axes>"
      ]
     },
     "metadata": {},
     "output_type": "display_data"
    }
   ],
   "source": [
    "# Plot\n",
    "plt.plot(timeseries)\n",
    "plt.plot(train_plot, c = 'r')\n",
    "plt.plot(test_plot, c = 'g')\n",
    "plt.show()"
   ]
  },
  {
   "cell_type": "code",
   "execution_count": null,
   "id": "17dad48c",
   "metadata": {},
   "outputs": [],
   "source": []
  }
 ],
 "metadata": {
  "kernelspec": {
   "display_name": "Python 3 (ipykernel)",
   "language": "python",
   "name": "python3"
  },
  "language_info": {
   "codemirror_mode": {
    "name": "ipython",
    "version": 3
   },
   "file_extension": ".py",
   "mimetype": "text/x-python",
   "name": "python",
   "nbconvert_exporter": "python",
   "pygments_lexer": "ipython3",
   "version": "3.9.13"
  }
 },
 "nbformat": 4,
 "nbformat_minor": 5
}
