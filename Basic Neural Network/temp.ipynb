{
 "cells": [
  {
   "cell_type": "code",
   "execution_count": 2,
   "id": "1f5fa5fd",
   "metadata": {},
   "outputs": [
    {
     "data": {
      "text/plain": [
       "([0, 1, 2, 3, 4, 5, 6, 7, 8, 9, 10],\n",
       " [9.569170182499594,\n",
       "  12.354081382867605,\n",
       "  11.732963225628733,\n",
       "  13.368037492365778,\n",
       "  15.939682496623192,\n",
       "  18.13218583009062,\n",
       "  18.369082283910522,\n",
       "  22.3411741927155,\n",
       "  23.70388821675254,\n",
       "  24.20272728854404,\n",
       "  26.255640168641136])"
      ]
     },
     "execution_count": 2,
     "metadata": {},
     "output_type": "execute_result"
    }
   ],
   "source": [
    "import numpy as np\n",
    "X = [x for x in range(11)]\n",
    "y = [1.6 * x + np.random.normal(10, 1) for x in X]\n",
    "\n",
    "X, y"
   ]
  },
  {
   "cell_type": "code",
   "execution_count": null,
   "id": "2fbefb95",
   "metadata": {},
   "outputs": [],
   "source": []
  }
 ],
 "metadata": {
  "kernelspec": {
   "display_name": "Python 3 (ipykernel)",
   "language": "python",
   "name": "python3"
  },
  "language_info": {
   "codemirror_mode": {
    "name": "ipython",
    "version": 3
   },
   "file_extension": ".py",
   "mimetype": "text/x-python",
   "name": "python",
   "nbconvert_exporter": "python",
   "pygments_lexer": "ipython3",
   "version": "3.9.13"
  }
 },
 "nbformat": 4,
 "nbformat_minor": 5
}
